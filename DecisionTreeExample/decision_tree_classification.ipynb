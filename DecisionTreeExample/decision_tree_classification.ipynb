{
  "nbformat": 4,
  "nbformat_minor": 0,
  "metadata": {
    "colab": {
      "name": "decision_tree_classification.ipynb",
      "provenance": [],
      "collapsed_sections": []
    },
    "kernelspec": {
      "name": "python3",
      "display_name": "Python 3"
    },
    "language_info": {
      "name": "python"
    }
  },
  "cells": [
    {
      "cell_type": "code",
      "source": [
        "pip install pyspark"
      ],
      "metadata": {
        "colab": {
          "base_uri": "https://localhost:8080/"
        },
        "id": "UDUP73NjQmt0",
        "outputId": "6b86a713-b5ef-4c5e-a393-b57caa6e6c01"
      },
      "execution_count": 2,
      "outputs": [
        {
          "output_type": "stream",
          "name": "stdout",
          "text": [
            "Collecting pyspark\n",
            "  Downloading pyspark-3.2.1.tar.gz (281.4 MB)\n",
            "\u001b[K     |████████████████████████████████| 281.4 MB 35 kB/s \n",
            "\u001b[?25hCollecting py4j==0.10.9.3\n",
            "  Downloading py4j-0.10.9.3-py2.py3-none-any.whl (198 kB)\n",
            "\u001b[K     |████████████████████████████████| 198 kB 52.1 MB/s \n",
            "\u001b[?25hBuilding wheels for collected packages: pyspark\n",
            "  Building wheel for pyspark (setup.py) ... \u001b[?25l\u001b[?25hdone\n",
            "  Created wheel for pyspark: filename=pyspark-3.2.1-py2.py3-none-any.whl size=281853642 sha256=8687232d7298ff3f2386da5f5de424191924d2eb088049867cb0273f43406357\n",
            "  Stored in directory: /root/.cache/pip/wheels/9f/f5/07/7cd8017084dce4e93e84e92efd1e1d5334db05f2e83bcef74f\n",
            "Successfully built pyspark\n",
            "Installing collected packages: py4j, pyspark\n",
            "Successfully installed py4j-0.10.9.3 pyspark-3.2.1\n"
          ]
        }
      ]
    },
    {
      "cell_type": "code",
      "execution_count": null,
      "metadata": {
        "colab": {
          "base_uri": "https://localhost:8080/"
        },
        "id": "AkJCpNyeQhUs",
        "outputId": "da45f4c8-a98c-40fb-b797-92453aeef7c1"
      },
      "outputs": [
        {
          "output_type": "stream",
          "name": "stdout",
          "text": [
            "rm: cannot remove 'target': No such file or directory\n",
            "Test Error = 0.08\n",
            "Learned classification tree model:\n",
            "DecisionTreeModel classifier of depth 1 with 3 nodes\n",
            "  If (feature 406 <= 126.5)\n",
            "   Predict: 0.0\n",
            "  Else (feature 406 > 126.5)\n",
            "   Predict: 1.0\n",
            "\n"
          ]
        }
      ],
      "source": [
        "# https://github.com/apache/spark/blob/master/examples/src/main/python/mllib/decision_tree_classification_example.py\n",
        "\n",
        "!rm -r target\n",
        "\n",
        "\"\"\"\n",
        "Decision Tree Classification Example.\n",
        "\"\"\"\n",
        "from pyspark import SparkContext\n",
        "# $example on$\n",
        "from pyspark.mllib.tree import DecisionTree, DecisionTreeModel\n",
        "from pyspark.mllib.util import MLUtils\n",
        "# $example off$\n",
        "\n",
        "if __name__ == \"__main__\":\n",
        "\n",
        "    if 'sc' not in locals():\n",
        "        sc = SparkContext(appName=\"PythonDecisionTreeClassificationExample\")\n",
        "\n",
        "    # $example on$\n",
        "    # Load and parse the data file into an RDD of LabeledPoint.\n",
        "    data = MLUtils.loadLibSVMFile(sc, 'sample_libsvm_data.txt')\n",
        "    # Split the data into training and test sets (30% held out for testing)\n",
        "    (trainingData, testData) = data.randomSplit([0.7, 0.3])\n",
        "\n",
        "    # Train a DecisionTree model.\n",
        "    # Empty categoricalFeaturesInfo indicates all features are continuous.\n",
        "    model = DecisionTree.trainClassifier(\n",
        "        trainingData, \n",
        "        numClasses=2, \n",
        "        categoricalFeaturesInfo={},\n",
        "        impurity='gini', \n",
        "        maxDepth=5, \n",
        "        maxBins=32\n",
        "    )\n",
        "\n",
        "    # Evaluate model on test instances and compute test error\n",
        "    predictions = model.predict(testData.map(lambda x: x.features))\n",
        "    labelsAndPredictions = testData.map(lambda lp: lp.label).zip(predictions)\n",
        "    testErr = labelsAndPredictions.filter(\n",
        "        lambda lp: lp[0] != lp[1]).count() / float(testData.count())\n",
        "    print('Test Error = ' + str(testErr))\n",
        "    print('Learned classification tree model:')\n",
        "    print(model.toDebugString())\n",
        "\n",
        "    # Save and load model\n",
        "    model.save(sc, \"target/tmp/myDecisionTreeClassificationModel\")\n",
        "    sameModel = DecisionTreeModel.load(sc, \"target/tmp/myDecisionTreeClassificationModel\")\n",
        "    # $example off$"
      ]
    }
  ]
}